{
 "cells": [
  {
   "cell_type": "code",
   "execution_count": 3,
   "metadata": {},
   "outputs": [
    {
     "name": "stdout",
     "output_type": "stream",
     "text": [
      "[['France' 44.0 72000.0]\n",
      " ['Spain' 27.0 48000.0]\n",
      " ['Germany' 30.0 54000.0]\n",
      " ['Spain' 38.0 61000.0]\n",
      " ['Germany' 40.0 nan]\n",
      " ['France' 35.0 58000.0]\n",
      " ['Spain' nan 52000.0]\n",
      " ['France' 48.0 79000.0]\n",
      " ['Germany' 50.0 83000.0]\n",
      " ['France' 37.0 67000.0]]\n",
      "['No' 'Yes' 'No' 'No' 'Yes' 'Yes' 'No' 'Yes' 'No' 'Yes']\n"
     ]
    }
   ],
   "source": [
    "##Importing Libraries\n",
    "## Libraries are ensemble of modules\n",
    "\n",
    "import numpy as np ##allows to work with arrays\n",
    "import pandas as pd ##helps us to import data sets and also create us matrix  \n",
    "## Importing Dataset\n",
    "\n",
    "dataset = pd.read_csv(\"Data.csv\") ##we call pandas so then its function with \".\" then, read_csv is a pandas funciton , dataframe = certain form of data, then we put the name of the data set inside the brackets\n",
    "##Now we have to create 2 new entities - 1 is the matrix of features and the another is the dependent variable vector\n",
    "##Dependent variable is the last column, matrix of features are the rest of the columns\n",
    "x = dataset.iloc[:,:-1].values\n",
    "## x is for matrix of feature, iloc[] is a pandas function which stands for location index, it takes the indexes of the colums/rows we want to extract from the data set\n",
    "## To take all the rows of the column use the colon inside which means no starting or ending, then to specify the columns we need put a comma after the colon\n",
    "## To take all the columns except the last one add a new range which is \":-1\", -1 in python means last column\n",
    "## values is for taking all the values from the rows and columns\n",
    "y  = dataset.iloc[:,-1].values\n",
    "## y is for dependent variable, I put -1 for columns section instead of : because I only need that column\n",
    "print(x)\n",
    "print(y)\n"
   ]
  },
  {
   "cell_type": "code",
   "execution_count": 4,
   "metadata": {},
   "outputs": [
    {
     "name": "stdout",
     "output_type": "stream",
     "text": [
      "[['France' 44.0 72000.0]\n",
      " ['Spain' 27.0 48000.0]\n",
      " ['Germany' 30.0 54000.0]\n",
      " ['Spain' 38.0 61000.0]\n",
      " ['Germany' 40.0 63777.77777777778]\n",
      " ['France' 35.0 58000.0]\n",
      " ['Spain' 38.77777777777778 52000.0]\n",
      " ['France' 48.0 79000.0]\n",
      " ['Germany' 50.0 83000.0]\n",
      " ['France' 37.0 67000.0]]\n"
     ]
    }
   ],
   "source": [
    "## Taking care of missing data\n",
    "\n",
    "##Missing data can cause some error in training ml models\n",
    "##we can delete is , if dataset is large and missing data is very little\n",
    "##or we can replace the missing value by the average all the available value\n",
    "\n",
    "##scikit learn is a library used for data preprocessing\n",
    "##we will be using it to handle missing data, to do this the class we will be using from it is called simpleimputer,\n",
    "##we will first import he class then we will create an instance/object of that class to exactly replace the missing value byt he average of the other values,then we will have an updated dataset with new set of values\n",
    "from sklearn.impute import SimpleImputer ##inorder the acceses a module we have to add a \".\", simpleimputer class belongs to a module called \"impute\", then we import the class\n",
    "\n",
    "##Since we are about to create a new object we need a new variable\n",
    "imputer = SimpleImputer(missing_values=np.nan, strategy='mean') ##imputer is the object of the class simpleimputer\n",
    "##Then we call the respective class with tis name and then by adding \"()\" to call the class and assign it inside the object\n",
    "##Now we can enter the right arguements\n",
    "##To repalce first we have to specify what are we replacing\n",
    "## So we use the arguement called missing values  to specify it then we use np.nan to deal with arrays thenwith comma we use the argument strategy which equals to mean in quotation \n",
    "## we can also use median instead of mean.\n",
    "##Till now imputer is just a object, we didn't connect anythign yet to our matrix of features\n",
    "imputer.fit(x[:, 1:3])##Fit method looks for missing vales and compute mean function, then to do the replacement we call another method called transform \n",
    "##1 is age column, 2 is salary column\n",
    "##first call the object and then call the method called fit, the arguemet for fit method is only numerical values not the text or string\n",
    "##we give x, because we need data from there\n",
    "##This connects imputer to matix of features\n",
    "##Now call transform method from imputer object, this method does the relacement\n",
    "imputer.transform(x[:, 1:3]) ## this transform method returns the new updated version of x with the 2 replacements made\n",
    "##Since transform method replaces to update x we take the updated colums and change it by what will it be returned by imputer function \n",
    "x[:,1:3] = imputer.transform(x[:, 1:3])\n",
    "print(x)\n"
   ]
  },
  {
   "cell_type": "code",
   "execution_count": null,
   "metadata": {},
   "outputs": [],
   "source": []
  }
 ],
 "metadata": {
  "kernelspec": {
   "display_name": "Python 3",
   "language": "python",
   "name": "python3"
  },
  "language_info": {
   "codemirror_mode": {
    "name": "ipython",
    "version": 3
   },
   "file_extension": ".py",
   "mimetype": "text/x-python",
   "name": "python",
   "nbconvert_exporter": "python",
   "pygments_lexer": "ipython3",
   "version": "3.9.13"
  }
 },
 "nbformat": 4,
 "nbformat_minor": 2
}
